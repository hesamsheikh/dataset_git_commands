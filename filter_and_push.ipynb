{
 "cells": [
  {
   "cell_type": "code",
   "execution_count": 1,
   "metadata": {},
   "outputs": [
    {
     "data": {
      "text/plain": [
       "True"
      ]
     },
     "execution_count": 1,
     "metadata": {},
     "output_type": "execute_result"
    }
   ],
   "source": [
    "from rich import print\n",
    "import os\n",
    "from openai import OpenAI\n",
    "from datasets import Dataset, DatasetDict, load_dataset\n",
    "import json\n",
    "from dotenv import load_dotenv\n",
    "\n",
    "# Load environment variables from .env file\n",
    "load_dotenv()"
   ]
  },
  {
   "cell_type": "code",
   "execution_count": 2,
   "metadata": {},
   "outputs": [],
   "source": [
    "client = OpenAI(\n",
    "    base_url=\"https://integrate.api.nvidia.com/v1\",\n",
    "    api_key=os.environ[\"NVIDIA_API_KEY\"]\n",
    ")"
   ]
  },
  {
   "cell_type": "code",
   "execution_count": 3,
   "metadata": {},
   "outputs": [
    {
     "data": {
      "text/html": [
       "<pre style=\"white-space:pre;overflow-x:auto;line-height:normal;font-family:Menlo,'DejaVu Sans Mono',consolas,'Courier New',monospace\"><span style=\"font-weight: bold\">[</span>\n",
       "    <span style=\"color: #800080; text-decoration-color: #800080; font-weight: bold\">ChatCompletionTokenLogprob</span><span style=\"font-weight: bold\">(</span><span style=\"color: #808000; text-decoration-color: #808000\">token</span>=<span style=\"color: #008000; text-decoration-color: #008000\">'helpfulness'</span>, <span style=\"color: #808000; text-decoration-color: #808000\">bytes</span>=<span style=\"color: #800080; text-decoration-color: #800080; font-style: italic\">None</span>, <span style=\"color: #808000; text-decoration-color: #808000\">logprob</span>=<span style=\"color: #008080; text-decoration-color: #008080; font-weight: bold\">4.15625</span>, <span style=\"color: #808000; text-decoration-color: #808000\">top_logprobs</span>=<span style=\"font-weight: bold\">[])</span>,\n",
       "    <span style=\"color: #800080; text-decoration-color: #800080; font-weight: bold\">ChatCompletionTokenLogprob</span><span style=\"font-weight: bold\">(</span><span style=\"color: #808000; text-decoration-color: #808000\">token</span>=<span style=\"color: #008000; text-decoration-color: #008000\">'correctness'</span>, <span style=\"color: #808000; text-decoration-color: #808000\">bytes</span>=<span style=\"color: #800080; text-decoration-color: #800080; font-style: italic\">None</span>, <span style=\"color: #808000; text-decoration-color: #808000\">logprob</span>=<span style=\"color: #008080; text-decoration-color: #008080; font-weight: bold\">4.125</span>, <span style=\"color: #808000; text-decoration-color: #808000\">top_logprobs</span>=<span style=\"font-weight: bold\">[])</span>,\n",
       "    <span style=\"color: #800080; text-decoration-color: #800080; font-weight: bold\">ChatCompletionTokenLogprob</span><span style=\"font-weight: bold\">(</span><span style=\"color: #808000; text-decoration-color: #808000\">token</span>=<span style=\"color: #008000; text-decoration-color: #008000\">'coherence'</span>, <span style=\"color: #808000; text-decoration-color: #808000\">bytes</span>=<span style=\"color: #800080; text-decoration-color: #800080; font-style: italic\">None</span>, <span style=\"color: #808000; text-decoration-color: #808000\">logprob</span>=<span style=\"color: #008080; text-decoration-color: #008080; font-weight: bold\">4.09375</span>, <span style=\"color: #808000; text-decoration-color: #808000\">top_logprobs</span>=<span style=\"font-weight: bold\">[])</span>,\n",
       "    <span style=\"color: #800080; text-decoration-color: #800080; font-weight: bold\">ChatCompletionTokenLogprob</span><span style=\"font-weight: bold\">(</span><span style=\"color: #808000; text-decoration-color: #808000\">token</span>=<span style=\"color: #008000; text-decoration-color: #008000\">'complexity'</span>, <span style=\"color: #808000; text-decoration-color: #808000\">bytes</span>=<span style=\"color: #800080; text-decoration-color: #800080; font-style: italic\">None</span>, <span style=\"color: #808000; text-decoration-color: #808000\">logprob</span>=<span style=\"color: #008080; text-decoration-color: #008080; font-weight: bold\">0.55078125</span>, <span style=\"color: #808000; text-decoration-color: #808000\">top_logprobs</span>=<span style=\"font-weight: bold\">[])</span>,\n",
       "    <span style=\"color: #800080; text-decoration-color: #800080; font-weight: bold\">ChatCompletionTokenLogprob</span><span style=\"font-weight: bold\">(</span><span style=\"color: #808000; text-decoration-color: #808000\">token</span>=<span style=\"color: #008000; text-decoration-color: #008000\">'verbosity'</span>, <span style=\"color: #808000; text-decoration-color: #808000\">bytes</span>=<span style=\"color: #800080; text-decoration-color: #800080; font-style: italic\">None</span>, <span style=\"color: #808000; text-decoration-color: #808000\">logprob</span>=<span style=\"color: #008080; text-decoration-color: #008080; font-weight: bold\">0.52734375</span>, <span style=\"color: #808000; text-decoration-color: #808000\">top_logprobs</span>=<span style=\"font-weight: bold\">[])</span>\n",
       "<span style=\"font-weight: bold\">]</span>\n",
       "</pre>\n"
      ],
      "text/plain": [
       "\u001b[1m[\u001b[0m\n",
       "    \u001b[1;35mChatCompletionTokenLogprob\u001b[0m\u001b[1m(\u001b[0m\u001b[33mtoken\u001b[0m=\u001b[32m'helpfulness'\u001b[0m, \u001b[33mbytes\u001b[0m=\u001b[3;35mNone\u001b[0m, \u001b[33mlogprob\u001b[0m=\u001b[1;36m4\u001b[0m\u001b[1;36m.15625\u001b[0m, \u001b[33mtop_logprobs\u001b[0m=\u001b[1m[\u001b[0m\u001b[1m]\u001b[0m\u001b[1m)\u001b[0m,\n",
       "    \u001b[1;35mChatCompletionTokenLogprob\u001b[0m\u001b[1m(\u001b[0m\u001b[33mtoken\u001b[0m=\u001b[32m'correctness'\u001b[0m, \u001b[33mbytes\u001b[0m=\u001b[3;35mNone\u001b[0m, \u001b[33mlogprob\u001b[0m=\u001b[1;36m4\u001b[0m\u001b[1;36m.125\u001b[0m, \u001b[33mtop_logprobs\u001b[0m=\u001b[1m[\u001b[0m\u001b[1m]\u001b[0m\u001b[1m)\u001b[0m,\n",
       "    \u001b[1;35mChatCompletionTokenLogprob\u001b[0m\u001b[1m(\u001b[0m\u001b[33mtoken\u001b[0m=\u001b[32m'coherence'\u001b[0m, \u001b[33mbytes\u001b[0m=\u001b[3;35mNone\u001b[0m, \u001b[33mlogprob\u001b[0m=\u001b[1;36m4\u001b[0m\u001b[1;36m.09375\u001b[0m, \u001b[33mtop_logprobs\u001b[0m=\u001b[1m[\u001b[0m\u001b[1m]\u001b[0m\u001b[1m)\u001b[0m,\n",
       "    \u001b[1;35mChatCompletionTokenLogprob\u001b[0m\u001b[1m(\u001b[0m\u001b[33mtoken\u001b[0m=\u001b[32m'complexity'\u001b[0m, \u001b[33mbytes\u001b[0m=\u001b[3;35mNone\u001b[0m, \u001b[33mlogprob\u001b[0m=\u001b[1;36m0\u001b[0m\u001b[1;36m.55078125\u001b[0m, \u001b[33mtop_logprobs\u001b[0m=\u001b[1m[\u001b[0m\u001b[1m]\u001b[0m\u001b[1m)\u001b[0m,\n",
       "    \u001b[1;35mChatCompletionTokenLogprob\u001b[0m\u001b[1m(\u001b[0m\u001b[33mtoken\u001b[0m=\u001b[32m'verbosity'\u001b[0m, \u001b[33mbytes\u001b[0m=\u001b[3;35mNone\u001b[0m, \u001b[33mlogprob\u001b[0m=\u001b[1;36m0\u001b[0m\u001b[1;36m.52734375\u001b[0m, \u001b[33mtop_logprobs\u001b[0m=\u001b[1m[\u001b[0m\u001b[1m]\u001b[0m\u001b[1m)\u001b[0m\n",
       "\u001b[1m]\u001b[0m\n"
      ]
     },
     "metadata": {},
     "output_type": "display_data"
    }
   ],
   "source": [
    "messages = [\n",
    "    {\n",
    "        \"role\": \"user\",\n",
    "        \"content\": \"What is the capital of Iran?\"\n",
    "    },\n",
    "    {\n",
    "        \"role\": \"assistant\",\n",
    "        \"content\": \"The capital of Iran is Tehran.\"\n",
    "    },\n",
    "]\n",
    "\n",
    "response = client.chat.completions.create(\n",
    "    model=\"nvidia/nemotron-4-340b-reward\",\n",
    "    messages=messages,\n",
    ")\n",
    "\n",
    "print(response.choices[0].logprobs.content)"
   ]
  },
  {
   "cell_type": "code",
   "execution_count": 4,
   "metadata": {},
   "outputs": [
    {
     "data": {
      "text/html": [
       "<pre style=\"white-space:pre;overflow-x:auto;line-height:normal;font-family:Menlo,'DejaVu Sans Mono',consolas,'Courier New',monospace\"><span style=\"font-weight: bold\">{</span>\n",
       "    <span style=\"color: #008000; text-decoration-color: #008000\">'helpfulness'</span>: <span style=\"color: #008080; text-decoration-color: #008080; font-weight: bold\">4.15625</span>,\n",
       "    <span style=\"color: #008000; text-decoration-color: #008000\">'correctness'</span>: <span style=\"color: #008080; text-decoration-color: #008080; font-weight: bold\">4.125</span>,\n",
       "    <span style=\"color: #008000; text-decoration-color: #008000\">'coherence'</span>: <span style=\"color: #008080; text-decoration-color: #008080; font-weight: bold\">4.09375</span>,\n",
       "    <span style=\"color: #008000; text-decoration-color: #008000\">'complexity'</span>: <span style=\"color: #008080; text-decoration-color: #008080; font-weight: bold\">0.55078125</span>,\n",
       "    <span style=\"color: #008000; text-decoration-color: #008000\">'verbosity'</span>: <span style=\"color: #008080; text-decoration-color: #008080; font-weight: bold\">0.52734375</span>\n",
       "<span style=\"font-weight: bold\">}</span>\n",
       "</pre>\n"
      ],
      "text/plain": [
       "\u001b[1m{\u001b[0m\n",
       "    \u001b[32m'helpfulness'\u001b[0m: \u001b[1;36m4.15625\u001b[0m,\n",
       "    \u001b[32m'correctness'\u001b[0m: \u001b[1;36m4.125\u001b[0m,\n",
       "    \u001b[32m'coherence'\u001b[0m: \u001b[1;36m4.09375\u001b[0m,\n",
       "    \u001b[32m'complexity'\u001b[0m: \u001b[1;36m0.55078125\u001b[0m,\n",
       "    \u001b[32m'verbosity'\u001b[0m: \u001b[1;36m0.52734375\u001b[0m\n",
       "\u001b[1m}\u001b[0m\n"
      ]
     },
     "metadata": {},
     "output_type": "display_data"
    }
   ],
   "source": [
    "def get_scores_from_response(score_response_template):\n",
    "    logprobs = score_response_template.choices[0].logprobs.content\n",
    "    score_dict = {}\n",
    "    for score in logprobs:\n",
    "        score_dict[score.token] = score.logprob\n",
    "    return score_dict\n",
    "\n",
    "print(get_scores_from_response(response))"
   ]
  },
  {
   "cell_type": "code",
   "execution_count": 5,
   "metadata": {},
   "outputs": [],
   "source": [
    "def get_response_and_scores(client, model, question, response_content):\n",
    "    messages = [\n",
    "        {\n",
    "            \"role\": \"user\",\n",
    "            \"content\": question\n",
    "        },\n",
    "        {\n",
    "            \"role\": \"assistant\",\n",
    "            \"content\": response_content\n",
    "        },\n",
    "    ]\n",
    "\n",
    "    response = client.chat.completions.create(\n",
    "        model=model,\n",
    "        messages=messages,\n",
    "    )\n",
    "\n",
    "    scores = get_scores_from_response(response)\n",
    "    return scores"
   ]
  },
  {
   "cell_type": "code",
   "execution_count": 64,
   "metadata": {},
   "outputs": [
    {
     "data": {
      "text/plain": [
       "335"
      ]
     },
     "execution_count": 64,
     "metadata": {},
     "output_type": "execute_result"
    }
   ],
   "source": [
    "import json\n",
    "\n",
    "def read_synthetic_data(file_path):\n",
    "    data_list = []\n",
    "    with open(file_path, 'r') as file:\n",
    "        for line in file:\n",
    "            entry = json.loads(line)\n",
    "            one_line_dict = {}\n",
    "            one_line_dict[\"instruction\"] = entry['instruction']\n",
    "            one_line_dict[\"response\"] = entry['responses']\n",
    "            data_list.append(one_line_dict)\n",
    "    return data_list\n",
    "\n",
    "synthetic_data = read_synthetic_data(\"synthetic_data.jsonl\")\n",
    "len(synthetic_data)"
   ]
  },
  {
   "cell_type": "code",
   "execution_count": 7,
   "metadata": {},
   "outputs": [
    {
     "data": {
      "text/plain": [
       "{'instruction': 'Create a new branch for my feature',\n",
       " 'response': \"To create a new branch for your feature, use the following Git command:\\n\\n`git branch feature/your-feature-name`\\n\\nReplace `your-feature-name` with a descriptive name for your feature. This will create a new branch, but you'll still be on the current branch.\\n\\nTo switch to the new branch, use:\\n\\n`git checkout feature/your-feature-name`\\n\\nAlternatively, you can create and switch to the new branch in one step with:\\n\\n`git checkout -b feature/your-feature-name`\"}"
      ]
     },
     "execution_count": 7,
     "metadata": {},
     "output_type": "execute_result"
    }
   ],
   "source": [
    "synthetic_data[0]"
   ]
  },
  {
   "cell_type": "code",
   "execution_count": 8,
   "metadata": {},
   "outputs": [],
   "source": [
    "def process_instruction_response_score(client, model, synthetic_data):\n",
    "    score_list = []\n",
    "    for instruction_response_pair in synthetic_data:\n",
    "        instruction = instruction_response_pair[\"instruction\"]\n",
    "        response = instruction_response_pair[\"response\"]\n",
    "        score = get_response_and_scores(client, model, instruction, response)\n",
    "        score_list.append(score)\n",
    "    return score_list"
   ]
  },
  {
   "cell_type": "code",
   "execution_count": 9,
   "metadata": {},
   "outputs": [],
   "source": [
    "score_list = process_instruction_response_score(client, \"nvidia/nemotron-4-340b-reward\", synthetic_data)"
   ]
  },
  {
   "cell_type": "code",
   "execution_count": 65,
   "metadata": {},
   "outputs": [
    {
     "data": {
      "text/plain": [
       "322"
      ]
     },
     "execution_count": 65,
     "metadata": {},
     "output_type": "execute_result"
    }
   ],
   "source": [
    "helpfulness_THRESHOLD = 3\n",
    "verbosity_THRESHOLD = 2.5\n",
    "synthetic_data = [data for i, data in enumerate(synthetic_data) \n",
    "                  if not (score_list[i][\"helpfulness\"] < helpfulness_THRESHOLD or \n",
    "                          score_list[i][\"verbosity\"] > verbosity_THRESHOLD)]\n",
    "len(synthetic_data)"
   ]
  },
  {
   "cell_type": "code",
   "execution_count": 67,
   "metadata": {},
   "outputs": [],
   "source": [
    "with open('synthetic_data_filtered.jsonl', 'w') as f:\n",
    "    for item in synthetic_data:\n",
    "        f.write(json.dumps(item))\n",
    "        f.write('\\n')"
   ]
  },
  {
   "cell_type": "code",
   "execution_count": 71,
   "metadata": {},
   "outputs": [
    {
     "data": {
      "application/vnd.jupyter.widget-view+json": {
       "model_id": "56874f3fc89e443f97b34bf2e01600b8",
       "version_major": 2,
       "version_minor": 0
      },
      "text/plain": [
       "VBox(children=(HTML(value='<center> <img\\nsrc=https://huggingface.co/front/assets/huggingface_logo-noborder.sv…"
      ]
     },
     "metadata": {},
     "output_type": "display_data"
    }
   ],
   "source": [
    "from huggingface_hub import login\n",
    "login()"
   ]
  },
  {
   "cell_type": "code",
   "execution_count": 72,
   "metadata": {},
   "outputs": [
    {
     "data": {
      "application/vnd.jupyter.widget-view+json": {
       "model_id": "88f786a19a62468389c1f08dfea4a249",
       "version_major": 2,
       "version_minor": 0
      },
      "text/plain": [
       "Uploading the dataset shards:   0%|          | 0/1 [00:00<?, ?it/s]"
      ]
     },
     "metadata": {},
     "output_type": "display_data"
    },
    {
     "data": {
      "application/vnd.jupyter.widget-view+json": {
       "model_id": "fc1a8992c5b042f691f4ac79be620026",
       "version_major": 2,
       "version_minor": 0
      },
      "text/plain": [
       "Creating parquet from Arrow format:   0%|          | 0/1 [00:00<?, ?ba/s]"
      ]
     },
     "metadata": {},
     "output_type": "display_data"
    },
    {
     "data": {
      "text/plain": [
       "CommitInfo(commit_url='https://huggingface.co/datasets/hesamsheikh/git-prompt/commit/b84898544f874d323812feed0abef8093d5e0aa8', commit_message='Upload dataset', commit_description='', oid='b84898544f874d323812feed0abef8093d5e0aa8', pr_url=None, pr_revision=None, pr_num=None)"
      ]
     },
     "execution_count": 72,
     "metadata": {},
     "output_type": "execute_result"
    }
   ],
   "source": [
    "with open(f'synthetic_data_filtered.jsonl', 'r') as f:\n",
    "    data = [json.loads(line) for line in f]\n",
    "dataset = Dataset.from_list(data)\n",
    "dataset_dict = DatasetDict({\"train\": dataset})\n",
    "dataset_dict.push_to_hub(\"hesamsheikh/git-prompt\")"
   ]
  }
 ],
 "metadata": {
  "kernelspec": {
   "display_name": "virtual_env",
   "language": "python",
   "name": "python3"
  },
  "language_info": {
   "codemirror_mode": {
    "name": "ipython",
    "version": 3
   },
   "file_extension": ".py",
   "mimetype": "text/x-python",
   "name": "python",
   "nbconvert_exporter": "python",
   "pygments_lexer": "ipython3",
   "version": "3.12.3"
  }
 },
 "nbformat": 4,
 "nbformat_minor": 2
}
